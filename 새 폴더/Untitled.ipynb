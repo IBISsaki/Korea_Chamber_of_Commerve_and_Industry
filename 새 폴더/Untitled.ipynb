{
 "cells": [
  {
   "cell_type": "code",
   "execution_count": 1,
   "metadata": {},
   "outputs": [
    {
     "name": "stdout",
     "output_type": "stream",
     "text": [
      "Hello, World!\n"
     ]
    }
   ],
   "source": [
    "print(\"Hello, World!\")"
   ]
  },
  {
   "cell_type": "code",
   "execution_count": 2,
   "metadata": {},
   "outputs": [
    {
     "data": {
      "text/html": [
       "<style>.joystick_focused{ cursor:grabbing !important;}    .joystick_background{user-select: none;        background: #fff3f3;        border: 1px solid #ffa29e;        border-radius: 50%;        height: 12em;        width: 12em;    margin:2.5em;}    .joystick_stick{cursor:grab; user-select: none;        background: #F74138;        border-radius: 50%;        box-shadow: 0.375em 0.375em 0 0 rgba(15, 28, 63, 0.125);        height: 5em;        width: 5em;        transform: translate(50%,50%);    }</style><div><div id=\"joystick_background_4A57267F492CD0\" class=\"joystick_background\">    <div id=\"joystick_stick_4A57267F492CD0\" class=\"joystick_stick\" style=\"position:absolute\" onmousedown=\"start_joystick_4A57267F492CD0(this); joystick_focus_4A57267F492CD0(this);\" ondrag=\"joystick_4A57267F492CD0(e)\" onmouseup=\"reset_joystick_4A57267F492CD0(this); joystick_disfocus_4A57267F492CD0(this);\"></div></div></div><script> X=0; Y=0; function joystick_focus_4A57267F492CD0(e){ e.classList.add(\"joystick_focused\");} function joystick_disfocus_4A57267F492CD0(e){ e.classList.remove(\"joystick_focused\");}    var port_4A57267F492CD0=8886;    var sock_4A57267F492CD0=new WebSocket(\"ws://\"+window.location.hostname+\":\"+port_4A57267F492CD0);    var sw_4A57267F492CD0=false;    var preX_4A57267F492CD0, preY_4A57267F492CD0, X_4A57267F492CD0, Y_4A57267F492CD0, nX_4A57267F492CD0, nY_4A57267F492CD0;    var back_4A57267F492CD0=document.getElementById(\"joystick_background_4A57267F492CD0\");    var stick_4A57267F492CD0=document.getElementById(\"joystick_stick_4A57267F492CD0\");    var back_width_4A57267F492CD0=back_4A57267F492CD0.offsetWidth;    var back_height_4A57267F492CD0=back_4A57267F492CD0.offsetHeight;    var stick_width_4A57267F492CD0=stick_4A57267F492CD0.offsetWidth;    var stick_height_4A57267F492CD0=stick_4A57267F492CD0.offsetHeight;  intlog_4A57267F492CD0=Date.now();  setInterval(()=>{try{if (parseFloat(sX_4A57267F492CD0)==0 && parseFloat(sY_4A57267F492CD0)==0) {if (Date.now()-intlog_4A57267F492CD0<500) sock_4A57267F492CD0.send(\"j,\" + sX_4A57267F492CD0 + \",\" + sY_4A57267F492CD0);}else{ sock_4A57267F492CD0.send(\"j,\" + sX_4A57267F492CD0 + \",\" + sY_4A57267F492CD0); intlog_4A57267F492CD0=Date.now();}}catch{console.log(\"Waiting to connect...\");}},50); function move_4A57267F492CD0(evt){        X=evt.clientX;        Y=evt.clientY;        if(sw_4A57267F492CD0){            nX_4A57267F492CD0+=X-preX_4A57267F492CD0;            nY_4A57267F492CD0+=Y-preY_4A57267F492CD0;            preX_4A57267F492CD0=X;            preY_4A57267F492CD0=Y;            if (nX_4A57267F492CD0>back_width_4A57267F492CD0-stick_width_4A57267F492CD0/2) nX_4A57267F492CD0=back_width_4A57267F492CD0-stick_width_4A57267F492CD0/2;            else if (nX_4A57267F492CD0<-stick_width_4A57267F492CD0/2) nX_4A57267F492CD0=-stick_width_4A57267F492CD0/2;            if (nY_4A57267F492CD0>back_height_4A57267F492CD0-stick_height_4A57267F492CD0/2) nY_4A57267F492CD0=back_height_4A57267F492CD0-stick_height_4A57267F492CD0/2;            else if (nY_4A57267F492CD0<-stick_height_4A57267F492CD0/2) nY_4A57267F492CD0=-stick_height_4A57267F492CD0/2;            sX_4A57267F492CD0=(nX_4A57267F492CD0+stick_width_4A57267F492CD0/2-back_width_4A57267F492CD0/2)/(back_width_4A57267F492CD0/2);            sY_4A57267F492CD0=-(nY_4A57267F492CD0+stick_height_4A57267F492CD0/2-back_height_4A57267F492CD0/2)/(back_height_4A57267F492CD0/2);                        /*sock_4A57267F492CD0.send(\"j,\"+sX_4A57267F492CD0+\",\"+sY_4A57267F492CD0);*/            stick_4A57267F492CD0.style.transform=\"translate(\"+nX_4A57267F492CD0+\"px,\"+nY_4A57267F492CD0+\"px)\";        }    };    function up_4A57267F492CD0(){joystick_disfocus_4A57267F492CD0(stick_4A57267F492CD0);        if(sw_4A57267F492CD0){            sw_4A57267F492CD0=false;            reset_joystick_4A57267F492CD0(stick_4A57267F492CD0);        }    };    function start_joystick_4A57267F492CD0(e){window.onmousemove=move_4A57267F492CD0; window.onmouseup=up_4A57267F492CD0;        preX_4A57267F492CD0=X;        preY_4A57267F492CD0=Y;        sw_4A57267F492CD0=true;    }    function joystick_4A57267F492CD0(e){        nX_4A57267F492CD0+=X-preX_4A57267F492CD0;        nY_4A57267F492CD0+=Y-preY_4A57267F492CD0;        preX_4A57267F492CD0=X;        preY_4A57267F492CD0=Y;        if (nX_4A57267F492CD0>back_width_4A57267F492CD0-stick_width_4A57267F492CD0/2) nX_4A57267F492CD0=back_width_4A57267F492CD0-stick_width_4A57267F492CD0/2;        else if (nX_4A57267F492CD0<-stick_width_4A57267F492CD0/2) nX_4A57267F492CD0=-stick_width_4A57267F492CD0/2;        if (nY_4A57267F492CD0>back_height_4A57267F492CD0-stick_height_4A57267F492CD0/2) nY_4A57267F492CD0=back_height_4A57267F492CD0-stick_height_4A57267F492CD0/2;        else if (nY_4A57267F492CD0<-stick_height_4A57267F492CD0/2) nY_4A57267F492CD0=-stick_height_4A57267F492CD0/2;                e.style.transform=\"translate(\"+nX_4A57267F492CD0+\"px,\"+nY_4A57267F492CD0+\"px)\";    }    function reset_joystick_4A57267F492CD0(e){        sw_4A57267F492CD0=false;        nX_4A57267F492CD0 = back_width_4A57267F492CD0/2 - stick_width_4A57267F492CD0/2;        nY_4A57267F492CD0 = back_height_4A57267F492CD0/2 - stick_height_4A57267F492CD0/2;        e.style.transform=\"translate(\"+nX_4A57267F492CD0+\"px,\"+nY_4A57267F492CD0+\"px)\"; sX_4A57267F492CD0=\"0\"; sY_4A57267F492CD0=\"0\"; sock_4A57267F492CD0.send(\"j,0,0\");    }    reset_joystick_4A57267F492CD0(stick_4A57267F492CD0); console.log(\"Loaded.\");</script>"
      ],
      "text/plain": [
       "<IPython.core.display.HTML object>"
      ]
     },
     "execution_count": 2,
     "metadata": {},
     "output_type": "execute_result"
    }
   ],
   "source": [
    "import time\n",
    "from pop import Pilot\n",
    "\n",
    "Car = Pilot.AutoCar()\n",
    "\n",
    "Car.forward()\n",
    "time.sleep(1)\n",
    "Car.backward(99)\n",
    "Car.stop\n",
    "\n",
    "Car.joystick()"
   ]
  },
  {
   "cell_type": "code",
   "execution_count": 5,
   "metadata": {},
   "outputs": [
    {
     "data": {
      "text/plain": [
       "<bound method AutoCar.stop of <pop.Pilot.AutoCar object at 0x7f37821160>>"
      ]
     },
     "execution_count": 5,
     "metadata": {},
     "output_type": "execute_result"
    }
   ],
   "source": [
    "import time\n",
    "from pop import Pilot\n",
    "\n",
    "Car = Pilot.AutoCar()\n",
    "\n",
    "Car.camPan(90)    # 카메라 좌우제어\n",
    "Car.camTilt(0)    # 카메라 상하제어\n",
    "time.sleep(1)\n",
    "\n",
    "Car.camPan(180)   # 카메라 우측\n",
    "time.sleep(1)\n",
    "Car.camPan(3)     # 카메라 좌측\n",
    "time.sleep(1)\n",
    "Car.camPan(90)    # 카메라 중립\n",
    "time.sleep(1)\n",
    "\n",
    "Car.camTilt(90)   # 카메라 상\n",
    "time.sleep(1)\n",
    "Car.camTilt(-17)  # 카메라 하\n",
    "time.sleep(1)\n",
    "Car.camTilt(0)    # 카메라 중립\n",
    "Car.stop\n"
   ]
  },
  {
   "cell_type": "code",
   "execution_count": 1,
   "metadata": {},
   "outputs": [],
   "source": [
    "import time\n",
    "from pop import Pilot\n",
    "\n",
    "Car = Pilot.AutoCar()\n",
    "\n",
    "Car.camPan(180)    # 카메라 좌우제어\n",
    "time.sleep(1)\n",
    "Car.camPan(3)  # 카메라 오른쪽\n",
    "time.sleep(1)\n",
    "Car.camPan(90)\n",
    "time.sleep(1)\n",
    "\n",
    "Car.camTilt(-12)  # 카메라 상하제어\n",
    "time.sleep(1)\n",
    "Car.camTilt(90)\n",
    "time.sleep(1)\n",
    "Car.camTilt(0)\n"
   ]
  },
  {
   "cell_type": "code",
   "execution_count": 11,
   "metadata": {},
   "outputs": [
    {
     "name": "stdout",
     "output_type": "stream",
     "text": [
      "{'x': -387, 'y': 168, 'z': 46}\n",
      "{'x': -406, 'y': 154, 'z': 25}\n",
      "{'x': -408, 'y': 160, 'z': 46}\n",
      "{'x': -382, 'y': 192, 'z': 51}\n",
      "{'x': -366, 'y': 172, 'z': 44}\n",
      "{'x': -411, 'y': 162, 'z': 51}\n",
      "{'x': -383, 'y': 201, 'z': 53}\n"
     ]
    },
    {
     "ename": "KeyboardInterrupt",
     "evalue": "",
     "output_type": "error",
     "traceback": [
      "\u001b[0;31m---------------------------------------------------------------------------\u001b[0m",
      "\u001b[0;31mKeyboardInterrupt\u001b[0m                         Traceback (most recent call last)",
      "\u001b[0;32m<ipython-input-11-96e1ba1a227a>\u001b[0m in \u001b[0;36m<module>\u001b[0;34m\u001b[0m\n\u001b[1;32m      6\u001b[0m     \u001b[0mvalue\u001b[0m \u001b[0;34m=\u001b[0m \u001b[0mCar\u001b[0m\u001b[0;34m.\u001b[0m\u001b[0mgetGyro\u001b[0m\u001b[0;34m(\u001b[0m\u001b[0;34m)\u001b[0m\u001b[0;34m\u001b[0m\u001b[0;34m\u001b[0m\u001b[0m\n\u001b[1;32m      7\u001b[0m     \u001b[0mprint\u001b[0m\u001b[0;34m(\u001b[0m\u001b[0mvalue\u001b[0m\u001b[0;34m)\u001b[0m\u001b[0;34m\u001b[0m\u001b[0;34m\u001b[0m\u001b[0m\n\u001b[0;32m----> 8\u001b[0;31m     \u001b[0mtime\u001b[0m\u001b[0;34m.\u001b[0m\u001b[0msleep\u001b[0m\u001b[0;34m(\u001b[0m\u001b[0;36m2\u001b[0m\u001b[0;34m)\u001b[0m\u001b[0;34m\u001b[0m\u001b[0;34m\u001b[0m\u001b[0m\n\u001b[0m",
      "\u001b[0;31mKeyboardInterrupt\u001b[0m: "
     ]
    }
   ],
   "source": [
    "import time\n",
    "from pop import Pilot\n",
    "\n",
    "Car = Pilot.AutoCar()\n",
    "while(1):\n",
    "    value = Car.getGyro()\n",
    "    print(value)\n",
    "    time.sleep(2)"
   ]
  },
  {
   "cell_type": "code",
   "execution_count": 12,
   "metadata": {},
   "outputs": [
    {
     "name": "stdout",
     "output_type": "stream",
     "text": [
      "{'x': 896, 'y': 444, 'z': 13300}\n",
      "{'x': 956, 'y': 60, 'z': 13520}\n",
      "{'x': 992, 'y': 376, 'z': 13376}\n"
     ]
    },
    {
     "ename": "KeyboardInterrupt",
     "evalue": "",
     "output_type": "error",
     "traceback": [
      "\u001b[0;31m---------------------------------------------------------------------------\u001b[0m",
      "\u001b[0;31mKeyboardInterrupt\u001b[0m                         Traceback (most recent call last)",
      "\u001b[0;32m<ipython-input-12-1df4e1097c11>\u001b[0m in \u001b[0;36m<module>\u001b[0;34m\u001b[0m\n\u001b[1;32m      6\u001b[0m     \u001b[0mvalue\u001b[0m \u001b[0;34m=\u001b[0m \u001b[0mCar\u001b[0m\u001b[0;34m.\u001b[0m\u001b[0mgetAccel\u001b[0m\u001b[0;34m(\u001b[0m\u001b[0;34m)\u001b[0m\u001b[0;34m\u001b[0m\u001b[0;34m\u001b[0m\u001b[0m\n\u001b[1;32m      7\u001b[0m     \u001b[0mprint\u001b[0m\u001b[0;34m(\u001b[0m\u001b[0mvalue\u001b[0m\u001b[0;34m)\u001b[0m\u001b[0;34m\u001b[0m\u001b[0;34m\u001b[0m\u001b[0m\n\u001b[0;32m----> 8\u001b[0;31m     \u001b[0mtime\u001b[0m\u001b[0;34m.\u001b[0m\u001b[0msleep\u001b[0m\u001b[0;34m(\u001b[0m\u001b[0;36m2\u001b[0m\u001b[0;34m)\u001b[0m\u001b[0;34m\u001b[0m\u001b[0;34m\u001b[0m\u001b[0m\n\u001b[0m",
      "\u001b[0;31mKeyboardInterrupt\u001b[0m: "
     ]
    }
   ],
   "source": [
    "import time\n",
    "from pop import Pilot\n",
    "\n",
    "Car = Pilot.AutoCar()\n",
    "\n",
    "while(1):\n",
    "    value = Car.getAccel()\n",
    "    print(value)\n",
    "    time.sleep(2)"
   ]
  },
  {
   "cell_type": "code",
   "execution_count": null,
   "metadata": {},
   "outputs": [],
   "source": [
    "import time\n",
    "from pop import Pilot\n",
    "from pop import LiDAR\n",
    "\n",
    "Car = Pilot.AutoCar()\n",
    "lidar = LiDAR.Rplidar()\n",
    "\n",
    "lidar.connect()\n",
    "lidar.stopMotor()\n",
    "time.sleep(1)\n",
    "lidar.startMotor()\n",
    "\n",
    "vectors = lidar.getVectors()\n",
    "for v in vectors:\n",
    "    print(v)\n",
    "\n",
    "\n",
    "#lidar.getXY()\n",
    "#lidar.getMap()\n",
    "\n",
    "lidar.stopMotor()\n"
   ]
  },
  {
   "cell_type": "code",
   "execution_count": 13,
   "metadata": {},
   "outputs": [
    {
     "name": "stdout",
     "output_type": "stream",
     "text": [
      "[1123.47641769 1542.16235815]\n",
      "[1135.7125139  1533.17353414]\n",
      "[1145.76185099 1520.67280531]\n",
      "[1159.33255483 1512.87277301]\n",
      "[1176.25085465 1509.91056919]\n",
      "[1211.7062432  1504.78967972]\n",
      "[911.92790171 860.75751642]\n",
      "[927.70550845 861.46299374]\n",
      "[945.11396711 863.22626765]\n",
      "[963.10460826 867.20557744]\n",
      "[981.86642442 870.21969904]\n",
      "[1000.98546662  872.70389917]\n",
      "[1020.29328085  874.83576805]\n",
      "[1037.83870229  875.81666348]\n",
      "[1059.40209078  881.22143077]\n",
      "[1101.75656871  886.30043626]\n",
      "[1134.65934295  899.58444599]\n",
      "[1159.042642    904.16821113]\n"
     ]
    },
    {
     "ename": "KeyboardInterrupt",
     "evalue": "",
     "output_type": "error",
     "traceback": [
      "\u001b[0;31m---------------------------------------------------------------------------\u001b[0m",
      "\u001b[0;31mKeyboardInterrupt\u001b[0m                         Traceback (most recent call last)",
      "\u001b[0;32m<ipython-input-13-dbfe387d1002>\u001b[0m in \u001b[0;36m<module>\u001b[0;34m\u001b[0m\n\u001b[1;32m     15\u001b[0m \u001b[0;32mfor\u001b[0m \u001b[0mc\u001b[0m \u001b[0;32min\u001b[0m \u001b[0mcoords\u001b[0m\u001b[0;34m:\u001b[0m\u001b[0;34m\u001b[0m\u001b[0;34m\u001b[0m\u001b[0m\n\u001b[1;32m     16\u001b[0m     \u001b[0mprint\u001b[0m\u001b[0;34m(\u001b[0m\u001b[0mc\u001b[0m\u001b[0;34m)\u001b[0m\u001b[0;34m\u001b[0m\u001b[0;34m\u001b[0m\u001b[0m\n\u001b[0;32m---> 17\u001b[0;31m     \u001b[0mtime\u001b[0m\u001b[0;34m.\u001b[0m\u001b[0msleep\u001b[0m\u001b[0;34m(\u001b[0m\u001b[0;36m1\u001b[0m\u001b[0;34m)\u001b[0m\u001b[0;34m\u001b[0m\u001b[0;34m\u001b[0m\u001b[0m\n\u001b[0m",
      "\u001b[0;31mKeyboardInterrupt\u001b[0m: "
     ]
    }
   ],
   "source": [
    "# LiDAR 기본 구동\n",
    "import time\n",
    "from pop import LiDAR\n",
    "\n",
    "lidar = LiDAR.Rplidar()\n",
    "\n",
    "lidar.connect()                        # LiDAR 연결\n",
    "lidar.startMotor()                     # 스캐닝 모터 시작\n",
    "\n",
    "# vectors = lidar.getVectors()         # 1회전 벡터\n",
    "# for v in vectors:\n",
    "#    print(v)                          # 각도와 거리(mm)\n",
    "#    time.sleep(1)\n",
    "\n",
    "coords = lidar.getXY()                 # 좌표 객체 반환\n",
    "for c in coords:\n",
    "    print(c)\n",
    "    time.sleep(1)"
   ]
  },
  {
   "cell_type": "code",
   "execution_count": 3,
   "metadata": {},
   "outputs": [],
   "source": [
    "from pop import LiDAR\n",
    "\n",
    "lidar = LiDAR.Rplidar()\n",
    "lidar.connect()\n",
    "\n",
    "lidar.stopMotor()"
   ]
  },
  {
   "cell_type": "code",
   "execution_count": null,
   "metadata": {},
   "outputs": [],
   "source": []
  }
 ],
 "metadata": {
  "kernelspec": {
   "display_name": "Python 3",
   "language": "python",
   "name": "python3"
  },
  "language_info": {
   "codemirror_mode": {
    "name": "ipython",
    "version": 3
   },
   "file_extension": ".py",
   "mimetype": "text/x-python",
   "name": "python",
   "nbconvert_exporter": "python",
   "pygments_lexer": "ipython3",
   "version": "3.6.9"
  }
 },
 "nbformat": 4,
 "nbformat_minor": 4
}
