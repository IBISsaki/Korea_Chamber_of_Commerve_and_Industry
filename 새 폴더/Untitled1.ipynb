{
 "cells": [
  {
   "cell_type": "code",
   "execution_count": 4,
   "metadata": {},
   "outputs": [
    {
     "ename": "KeyboardInterrupt",
     "evalue": "",
     "output_type": "error",
     "traceback": [
      "\u001b[0;31m---------------------------------------------------------------------------\u001b[0m",
      "\u001b[0;31mKeyboardInterrupt\u001b[0m                         Traceback (most recent call last)",
      "\u001b[0;32m<ipython-input-4-13ffc5de5e52>\u001b[0m in \u001b[0;36m<module>\u001b[0;34m\u001b[0m\n\u001b[1;32m     22\u001b[0m                 \u001b[0mno_collision\u001b[0m \u001b[0;34m=\u001b[0m \u001b[0;32mFalse\u001b[0m\u001b[0;34m\u001b[0m\u001b[0;34m\u001b[0m\u001b[0m\n\u001b[1;32m     23\u001b[0m             \u001b[0;32mif\u001b[0m \u001b[0mno_collision\u001b[0m\u001b[0;34m:\u001b[0m\u001b[0;34m\u001b[0m\u001b[0;34m\u001b[0m\u001b[0m\n\u001b[0;32m---> 24\u001b[0;31m                 \u001b[0mcar\u001b[0m\u001b[0;34m.\u001b[0m\u001b[0msetSpeed\u001b[0m\u001b[0;34m(\u001b[0m\u001b[0;36m99\u001b[0m\u001b[0;34m)\u001b[0m\u001b[0;34m\u001b[0m\u001b[0;34m\u001b[0m\u001b[0m\n\u001b[0m\u001b[1;32m     25\u001b[0m                 \u001b[0mcar\u001b[0m\u001b[0;34m.\u001b[0m\u001b[0mforward\u001b[0m\u001b[0;34m(\u001b[0m\u001b[0;34m)\u001b[0m\u001b[0;34m\u001b[0m\u001b[0;34m\u001b[0m\u001b[0m\n\u001b[1;32m     26\u001b[0m             \u001b[0;32melse\u001b[0m\u001b[0;34m:\u001b[0m\u001b[0;34m\u001b[0m\u001b[0;34m\u001b[0m\u001b[0m\n",
      "\u001b[0;32m/usr/local/lib/python3.6/dist-packages/pop/Pilot.py\u001b[0m in \u001b[0;36msetSpeed\u001b[0;34m(self, speed)\u001b[0m\n\u001b[1;32m    559\u001b[0m \u001b[0;34m\u001b[0m\u001b[0m\n\u001b[1;32m    560\u001b[0m     \u001b[0;32mdef\u001b[0m \u001b[0msetSpeed\u001b[0m\u001b[0;34m(\u001b[0m\u001b[0mself\u001b[0m\u001b[0;34m,\u001b[0m \u001b[0mspeed\u001b[0m\u001b[0;34m)\u001b[0m\u001b[0;34m:\u001b[0m\u001b[0;34m\u001b[0m\u001b[0;34m\u001b[0m\u001b[0m\n\u001b[0;32m--> 561\u001b[0;31m         \u001b[0mself\u001b[0m\u001b[0;34m.\u001b[0m\u001b[0mdrv\u001b[0m\u001b[0;34m.\u001b[0m\u001b[0msetSpeed\u001b[0m\u001b[0;34m(\u001b[0m\u001b[0mspeed\u001b[0m\u001b[0;34m)\u001b[0m\u001b[0;34m\u001b[0m\u001b[0;34m\u001b[0m\u001b[0m\n\u001b[0m\u001b[1;32m    562\u001b[0m \u001b[0;34m\u001b[0m\u001b[0m\n\u001b[1;32m    563\u001b[0m     \u001b[0;32mdef\u001b[0m \u001b[0mgetSpeed\u001b[0m\u001b[0;34m(\u001b[0m\u001b[0mself\u001b[0m\u001b[0;34m)\u001b[0m\u001b[0;34m:\u001b[0m\u001b[0;34m\u001b[0m\u001b[0;34m\u001b[0m\u001b[0m\n",
      "\u001b[0;32m/usr/local/lib/python3.6/dist-packages/pop/Pilot.py\u001b[0m in \u001b[0;36msetSpeed\u001b[0;34m(self, speed)\u001b[0m\n\u001b[1;32m    197\u001b[0m     \u001b[0;32mdef\u001b[0m \u001b[0msetSpeed\u001b[0m\u001b[0;34m(\u001b[0m\u001b[0mself\u001b[0m\u001b[0;34m,\u001b[0m \u001b[0mspeed\u001b[0m\u001b[0;34m)\u001b[0m\u001b[0;34m:\u001b[0m\u001b[0;34m\u001b[0m\u001b[0;34m\u001b[0m\u001b[0m\n\u001b[1;32m    198\u001b[0m         \u001b[0;32mif\u001b[0m \u001b[0mself\u001b[0m\u001b[0;34m.\u001b[0m\u001b[0mstat\u001b[0m \u001b[0;34m!=\u001b[0m \u001b[0mDriving\u001b[0m\u001b[0;34m.\u001b[0m\u001b[0mSTAT_STOP\u001b[0m\u001b[0;34m:\u001b[0m\u001b[0;34m\u001b[0m\u001b[0;34m\u001b[0m\u001b[0m\n\u001b[0;32m--> 199\u001b[0;31m             \u001b[0mself\u001b[0m\u001b[0;34m.\u001b[0m\u001b[0mdirection\u001b[0m\u001b[0;34m(\u001b[0m\u001b[0mself\u001b[0m\u001b[0;34m.\u001b[0m\u001b[0mstat\u001b[0m\u001b[0;34m,\u001b[0m \u001b[0mspeed\u001b[0m\u001b[0;34m)\u001b[0m\u001b[0;34m\u001b[0m\u001b[0;34m\u001b[0m\u001b[0m\n\u001b[0m\u001b[1;32m    200\u001b[0m \u001b[0;34m\u001b[0m\u001b[0m\n\u001b[1;32m    201\u001b[0m     \u001b[0;32mdef\u001b[0m \u001b[0mgetSpeed\u001b[0m\u001b[0;34m(\u001b[0m\u001b[0mself\u001b[0m\u001b[0;34m)\u001b[0m\u001b[0;34m:\u001b[0m\u001b[0;34m\u001b[0m\u001b[0;34m\u001b[0m\u001b[0m\n",
      "\u001b[0;32m/usr/local/lib/python3.6/dist-packages/pop/Pilot.py\u001b[0m in \u001b[0;36mdirection\u001b[0;34m(self, stat, speed)\u001b[0m\n\u001b[1;32m    252\u001b[0m                 \u001b[0mself\u001b[0m\u001b[0;34m.\u001b[0m\u001b[0mpwm\u001b[0m\u001b[0;34m.\u001b[0m\u001b[0msetDuty\u001b[0m\u001b[0;34m(\u001b[0m\u001b[0mDriving\u001b[0m\u001b[0;34m.\u001b[0m\u001b[0mGPIO_RIGHT_FORWARD\u001b[0m\u001b[0;34m,\u001b[0m \u001b[0;36m0\u001b[0m\u001b[0;34m)\u001b[0m\u001b[0;34m\u001b[0m\u001b[0;34m\u001b[0m\u001b[0m\n\u001b[1;32m    253\u001b[0m                 \u001b[0mself\u001b[0m\u001b[0;34m.\u001b[0m\u001b[0mpwm\u001b[0m\u001b[0;34m.\u001b[0m\u001b[0msetDuty\u001b[0m\u001b[0;34m(\u001b[0m\u001b[0mDriving\u001b[0m\u001b[0;34m.\u001b[0m\u001b[0mGPIO_LEFT_BACKWARD\u001b[0m\u001b[0;34m,\u001b[0m \u001b[0;36m0\u001b[0m\u001b[0;34m)\u001b[0m\u001b[0;34m\u001b[0m\u001b[0;34m\u001b[0m\u001b[0m\n\u001b[0;32m--> 254\u001b[0;31m                 \u001b[0mself\u001b[0m\u001b[0;34m.\u001b[0m\u001b[0mpwm\u001b[0m\u001b[0;34m.\u001b[0m\u001b[0msetDuty\u001b[0m\u001b[0;34m(\u001b[0m\u001b[0mDriving\u001b[0m\u001b[0;34m.\u001b[0m\u001b[0mGPIO_RIGHT_BACKWARD\u001b[0m\u001b[0;34m,\u001b[0m \u001b[0mself\u001b[0m\u001b[0;34m.\u001b[0m\u001b[0mspeed\u001b[0m\u001b[0;34m)\u001b[0m\u001b[0;34m\u001b[0m\u001b[0;34m\u001b[0m\u001b[0m\n\u001b[0m\u001b[1;32m    255\u001b[0m                 \u001b[0mself\u001b[0m\u001b[0;34m.\u001b[0m\u001b[0mpwm\u001b[0m\u001b[0;34m.\u001b[0m\u001b[0msetDuty\u001b[0m\u001b[0;34m(\u001b[0m\u001b[0mDriving\u001b[0m\u001b[0;34m.\u001b[0m\u001b[0mGPIO_LEFT_FORWARD\u001b[0m\u001b[0;34m,\u001b[0m \u001b[0mself\u001b[0m\u001b[0;34m.\u001b[0m\u001b[0mspeed\u001b[0m\u001b[0;34m)\u001b[0m\u001b[0;34m\u001b[0m\u001b[0;34m\u001b[0m\u001b[0m\n\u001b[1;32m    256\u001b[0m         \u001b[0;32melif\u001b[0m \u001b[0m_cat\u001b[0m\u001b[0;34m==\u001b[0m\u001b[0;36m5\u001b[0m\u001b[0;34m:\u001b[0m\u001b[0;34m\u001b[0m\u001b[0;34m\u001b[0m\u001b[0m\n",
      "\u001b[0;32m/usr/local/lib/python3.6/dist-packages/pop/Pilot.py\u001b[0m in \u001b[0;36msetDuty\u001b[0;34m(self, channel, duty)\u001b[0m\n\u001b[1;32m     61\u001b[0m \u001b[0;34m\u001b[0m\u001b[0m\n\u001b[1;32m     62\u001b[0m         \u001b[0;32mif\u001b[0m \u001b[0mself\u001b[0m\u001b[0;34m.\u001b[0m\u001b[0mwait_i2c\u001b[0m\u001b[0;34m:\u001b[0m\u001b[0;34m\u001b[0m\u001b[0;34m\u001b[0m\u001b[0m\n\u001b[0;32m---> 63\u001b[0;31m             \u001b[0;32mwhile\u001b[0m \u001b[0mtime\u001b[0m\u001b[0;34m.\u001b[0m\u001b[0mtime\u001b[0m\u001b[0;34m(\u001b[0m\u001b[0;34m)\u001b[0m\u001b[0;34m-\u001b[0m\u001b[0m__main__\u001b[0m\u001b[0;34m.\u001b[0m\u001b[0mpwm_time_log\u001b[0m\u001b[0;34m<\u001b[0m\u001b[0;36m0.05\u001b[0m\u001b[0;34m:\u001b[0m \u001b[0mtime\u001b[0m\u001b[0;34m.\u001b[0m\u001b[0msleep\u001b[0m\u001b[0;34m(\u001b[0m\u001b[0;36m0.01\u001b[0m\u001b[0;34m)\u001b[0m\u001b[0;34m\u001b[0m\u001b[0;34m\u001b[0m\u001b[0m\n\u001b[0m\u001b[1;32m     64\u001b[0m         \u001b[0mself\u001b[0m\u001b[0;34m.\u001b[0m\u001b[0m_writeByte\u001b[0m\u001b[0;34m(\u001b[0m\u001b[0mself\u001b[0m\u001b[0;34m.\u001b[0m\u001b[0m_base_adr_low\u001b[0m \u001b[0;34m+\u001b[0m \u001b[0;36m4\u001b[0m \u001b[0;34m*\u001b[0m \u001b[0mchannel\u001b[0m\u001b[0;34m,\u001b[0m \u001b[0mdata\u001b[0m \u001b[0;34m&\u001b[0m \u001b[0;36m0xFF\u001b[0m\u001b[0;34m)\u001b[0m\u001b[0;34m\u001b[0m\u001b[0;34m\u001b[0m\u001b[0m\n\u001b[1;32m     65\u001b[0m         \u001b[0mself\u001b[0m\u001b[0;34m.\u001b[0m\u001b[0m_writeByte\u001b[0m\u001b[0;34m(\u001b[0m\u001b[0mself\u001b[0m\u001b[0;34m.\u001b[0m\u001b[0m_base_adr_high\u001b[0m \u001b[0;34m+\u001b[0m \u001b[0;36m4\u001b[0m \u001b[0;34m*\u001b[0m \u001b[0mchannel\u001b[0m\u001b[0;34m,\u001b[0m \u001b[0mdata\u001b[0m \u001b[0;34m>>\u001b[0m \u001b[0;36m8\u001b[0m\u001b[0;34m)\u001b[0m\u001b[0;34m\u001b[0m\u001b[0;34m\u001b[0m\u001b[0m\n",
      "\u001b[0;31mKeyboardInterrupt\u001b[0m: "
     ]
    }
   ],
   "source": [
    "from pop import LiDAR, Pilot\n",
    "\n",
    "lidar = LiDAR.Rplidar()            # LiDAR 객체 생성\n",
    "car = Pilot.AutoCar()              # AutoCar 객체 생성\n",
    "\n",
    "lidar.connect()\n",
    "lidar.startMotor()\n",
    "\n",
    "car.setSpeed(90)                    # 속도\n",
    "car.steering = 0                     # 조향 가운데\n",
    "\n",
    "while True:\n",
    "    no_collision = True\n",
    "    \n",
    "    vectors = lidar.getVectors()\n",
    "    for v in vectors:\n",
    "        degree = v[0]\n",
    "        distance = v[1]\n",
    "        \n",
    "        if degree <= 60 or degree >= 300:\n",
    "            if distance <= 700:\n",
    "                no_collision = False\n",
    "            if no_collision:\n",
    "                car.setSpeed(99)\n",
    "                car.forward()\n",
    "            else:\n",
    "                if car.steering == 0:\n",
    "                    car.stop()\n",
    "                car.steering = -1\n",
    "                car.backward(50)\n"
   ]
  },
  {
   "cell_type": "code",
   "execution_count": 5,
   "metadata": {},
   "outputs": [],
   "source": [
    "from pop import LiDAR, Pilot\n",
    "\n",
    "lidar = LiDAR.Rplidar()            # LiDAR 객체 생성\n",
    "car = Pilot.AutoCar()              # AutoCar 객체 생성\n",
    "\n",
    "lidar.connect()\n",
    "\n",
    "car.stop()\n",
    "car.steering = 0\n",
    "lidar.stopMotor()"
   ]
  },
  {
   "cell_type": "code",
   "execution_count": null,
   "metadata": {},
   "outputs": [],
   "source": [
    "\n",
    "from pop import Util\n",
    "Util.createIMG()\n",
    "\n",
    "import cv2\n",
    "from pop import LiDAR, Pilot\n",
    "\n",
    "lidar = LiDAR.Rplidar()            # LiDAR 객체 생성\n",
    "car = Pilot.AutoCar()              # AutoCar 객체 생성\n",
    "\n",
    "lidar.connect()\n",
    "lidar.startMotor()\n",
    "\n",
    "image = cv2.imread(\"img.jpg\", cv2.IMREAD_COLOR)\n",
    "height, width, channel = image.shape\n",
    "\n",
    "print(\"%d, %d, %d\" % (width, height, channel))"
   ]
  },
  {
   "cell_type": "code",
   "execution_count": 13,
   "metadata": {},
   "outputs": [
    {
     "data": {
      "application/vnd.jupyter.widget-view+json": {
       "model_id": "c470980ee9dd419595971ba65d13ea20",
       "version_major": 2,
       "version_minor": 0
      },
      "text/plain": [
       "Image(value=b'\\xff\\xd8\\xff\\xe0\\x00\\x10JFIF\\x00\\x01\\x01\\x00\\x00\\x01\\x00\\x01\\x00\\x00\\xff\\xdb\\x00C\\x00\\x02\\x01\\x0…"
      ]
     },
     "metadata": {},
     "output_type": "display_data"
    },
    {
     "data": {
      "application/vnd.jupyter.widget-view+json": {
       "model_id": "dbc2e0fbcf0341119b90637fb6fa7ce9",
       "version_major": 2,
       "version_minor": 0
      },
      "text/plain": [
       "Image(value=b'\\xff\\xd8\\xff\\xe0\\x00\\x10JFIF\\x00\\x01\\x01\\x00\\x00\\x01\\x00\\x01\\x00\\x00\\xff\\xdb\\x00C\\x00\\x02\\x01\\x0…"
      ]
     },
     "metadata": {},
     "output_type": "display_data"
    }
   ],
   "source": [
    "import cv2\n",
    "from pop import Util\n",
    "\n",
    "Util.enable_imshow()\n",
    "\n",
    "filename = \"img.jpg\"\n",
    "\n",
    "imgColor = cv2.imread(filename, cv2.IMREAD_COLOR)\n",
    "imgGray = cv2.imread(filename, cv2.IMREAD_GRAYSCALE)\n",
    "\n",
    "cv2.imshow(\"Color\", imgColor)\n",
    "cv2.imshow(\"GrayScale\", imgGray)\n"
   ]
  },
  {
   "cell_type": "code",
   "execution_count": 2,
   "metadata": {},
   "outputs": [
    {
     "data": {
      "application/vnd.jupyter.widget-view+json": {
       "model_id": "be3736366b5141d7a80fadbf054854f5",
       "version_major": 2,
       "version_minor": 0
      },
      "text/plain": [
       "Image(value=b'\\xff\\xd8\\xff\\xe0\\x00\\x10JFIF\\x00\\x01\\x01\\x00\\x00\\x01\\x00\\x01\\x00\\x00\\xff\\xdb\\x00C\\x00\\x02\\x01\\x0…"
      ]
     },
     "metadata": {},
     "output_type": "display_data"
    },
    {
     "data": {
      "application/vnd.jupyter.widget-view+json": {
       "model_id": "031b44a951444f7b935a497d0ed0d339",
       "version_major": 2,
       "version_minor": 0
      },
      "text/plain": [
       "Image(value=b'\\xff\\xd8\\xff\\xe0\\x00\\x10JFIF\\x00\\x01\\x01\\x00\\x00\\x01\\x00\\x01\\x00\\x00\\xff\\xdb\\x00C\\x00\\x02\\x01\\x0…"
      ]
     },
     "metadata": {},
     "output_type": "display_data"
    }
   ],
   "source": [
    "import cv2\n",
    "from pop import Util\n",
    "\n",
    "Util.enable_imshow()\n",
    "\n",
    "imgGray = cv2.imread(\"img.jpg\", cv2.IMREAD_COLOR)\n",
    "\n",
    "b, g, r = cv2.split(imgOrigin)\n",
    "imgNew = cv2.merge([r, g, b])\n",
    "\n",
    "cv2.imshow(\"Origin\", imgOrigin)\n",
    "cv2.imshow(\"New\", imgNew)\n",
    "\n",
    "cv2.waitKey(0)\n",
    "cv2.destroyAllWindows()"
   ]
  },
  {
   "cell_type": "code",
   "execution_count": 4,
   "metadata": {},
   "outputs": [
    {
     "data": {
      "application/vnd.jupyter.widget-view+json": {
       "model_id": "f7a21b7073f74aba829d8fa2c8f9f1f3",
       "version_major": 2,
       "version_minor": 0
      },
      "text/plain": [
       "Image(value=b'\\xff\\xd8\\xff\\xe0\\x00\\x10JFIF\\x00\\x01\\x01\\x00\\x00\\x01\\x00\\x01\\x00\\x00\\xff\\xdb\\x00C\\x00\\x02\\x01\\x0…"
      ]
     },
     "metadata": {},
     "output_type": "display_data"
    },
    {
     "data": {
      "application/vnd.jupyter.widget-view+json": {
       "model_id": "c99ceba4c85e49a68c001b7d0aa89bcc",
       "version_major": 2,
       "version_minor": 0
      },
      "text/plain": [
       "Image(value=b'\\xff\\xd8\\xff\\xe0\\x00\\x10JFIF\\x00\\x01\\x01\\x00\\x00\\x01\\x00\\x01\\x00\\x00\\xff\\xdb\\x00C\\x00\\x02\\x01\\x0…"
      ]
     },
     "metadata": {},
     "output_type": "display_data"
    }
   ],
   "source": [
    "import cv2\n",
    "\n",
    "imgOrigin = cv2.imread(\"img.jpg\", cv2.IMREAD_COLOR)\n",
    "imgGray = cv2.imread(\"img.jpg\", cv2.IMREAD_GRAYSCALE)\n",
    "\n",
    "cv2.imwrite(\"img.jpg\", imgOrigin)\n",
    "cv2.imwrite(\"imgGray.jpg\", imgGray)\n",
    "\n",
    "cv2.imshow(\"img.jpg\", imgOrigin)\n",
    "cv2.imshow(\"imgGray.jpg\", imgGray)"
   ]
  },
  {
   "cell_type": "code",
   "execution_count": null,
   "metadata": {},
   "outputs": [],
   "source": [
    "import cv2\n",
    "\n",
    "cam = \"nvarguscamerasrc! video/x-raw (memory:NVMM), width=(int) 640, height=(int)480, format=(string)NV12, framerate=(fraction) 30/1! nvvidconv flip-method=0! video/x-raw, width=(int)640, height=(int)480, format=(string)BGRx! videoconvert! video/x-raw, format=(string)BGR! appsink\"\n",
    "\n",
    "cv2.VideoCapture(cam, cv2.CAP_GSTREAMER)"
   ]
  },
  {
   "cell_type": "code",
   "execution_count": 65,
   "metadata": {},
   "outputs": [
    {
     "name": "stdout",
     "output_type": "stream",
     "text": [
      "init width: 640, init height: 480\n"
     ]
    },
    {
     "data": {
      "application/vnd.jupyter.widget-view+json": {
       "model_id": "8fedfffee8e24fbcb467207a2e5f8b2f",
       "version_major": 2,
       "version_minor": 0
      },
      "text/plain": [
       "Image(value=b'\\xff\\xd8\\xff\\xe0\\x00\\x10JFIF\\x00\\x01\\x01\\x00\\x00\\x01\\x00\\x01\\x00\\x00\\xff\\xdb\\x00C\\x00\\x02\\x01\\x0…"
      ]
     },
     "metadata": {},
     "output_type": "display_data"
    },
    {
     "ename": "KeyboardInterrupt",
     "evalue": "",
     "output_type": "error",
     "traceback": [
      "\u001b[0;31m---------------------------------------------------------------------------\u001b[0m",
      "\u001b[0;31mKeyboardInterrupt\u001b[0m                         Traceback (most recent call last)",
      "\u001b[0;32m<ipython-input-65-375469955467>\u001b[0m in \u001b[0;36m<module>\u001b[0;34m\u001b[0m\n\u001b[1;32m     32\u001b[0m \u001b[0;34m\u001b[0m\u001b[0m\n\u001b[1;32m     33\u001b[0m     \u001b[0mcar\u001b[0m\u001b[0;34m.\u001b[0m\u001b[0mcamPan\u001b[0m\u001b[0;34m(\u001b[0m\u001b[0mangle_p\u001b[0m\u001b[0;34m)\u001b[0m\u001b[0;34m\u001b[0m\u001b[0;34m\u001b[0m\u001b[0m\n\u001b[0;32m---> 34\u001b[0;31m     \u001b[0mcar\u001b[0m\u001b[0;34m.\u001b[0m\u001b[0mcamTilt\u001b[0m\u001b[0;34m(\u001b[0m\u001b[0mangle_t\u001b[0m\u001b[0;34m)\u001b[0m\u001b[0;34m\u001b[0m\u001b[0;34m\u001b[0m\u001b[0m\n\u001b[0m\u001b[1;32m     35\u001b[0m     \u001b[0mcv2\u001b[0m\u001b[0;34m.\u001b[0m\u001b[0mimshow\u001b[0m\u001b[0;34m(\u001b[0m\u001b[0;34m\"soda\"\u001b[0m\u001b[0;34m,\u001b[0m \u001b[0mframe\u001b[0m\u001b[0;34m)\u001b[0m\u001b[0;34m\u001b[0m\u001b[0;34m\u001b[0m\u001b[0m\n\u001b[1;32m     36\u001b[0m \u001b[0;34m\u001b[0m\u001b[0m\n",
      "\u001b[0;32m/usr/local/lib/python3.6/dist-packages/pop/Pilot.py\u001b[0m in \u001b[0;36mcamTilt\u001b[0;34m(self, value)\u001b[0m\n\u001b[1;32m    578\u001b[0m     \u001b[0;32mdef\u001b[0m \u001b[0mcamTilt\u001b[0m\u001b[0;34m(\u001b[0m\u001b[0mself\u001b[0m\u001b[0;34m,\u001b[0m \u001b[0mvalue\u001b[0m\u001b[0;34m)\u001b[0m\u001b[0;34m:\u001b[0m\u001b[0;34m\u001b[0m\u001b[0;34m\u001b[0m\u001b[0m\n\u001b[1;32m    579\u001b[0m         \u001b[0;32mif\u001b[0m \u001b[0mhas_lidar\u001b[0m \u001b[0;32mand\u001b[0m \u001b[0mvalue\u001b[0m\u001b[0;34m>\u001b[0m\u001b[0;36m90\u001b[0m\u001b[0;34m:\u001b[0m \u001b[0mvalue\u001b[0m\u001b[0;34m=\u001b[0m\u001b[0;36m90\u001b[0m\u001b[0;34m\u001b[0m\u001b[0;34m\u001b[0m\u001b[0m\n\u001b[0;32m--> 580\u001b[0;31m         \u001b[0mself\u001b[0m\u001b[0;34m.\u001b[0m\u001b[0mcampod\u001b[0m\u001b[0;34m.\u001b[0m\u001b[0mtilt\u001b[0m\u001b[0;34m(\u001b[0m\u001b[0mvalue\u001b[0m\u001b[0;34m)\u001b[0m\u001b[0;34m\u001b[0m\u001b[0;34m\u001b[0m\u001b[0m\n\u001b[0m\u001b[1;32m    581\u001b[0m \u001b[0;34m\u001b[0m\u001b[0m\n\u001b[1;32m    582\u001b[0m     \u001b[0;32mdef\u001b[0m \u001b[0mcam2Back\u001b[0m\u001b[0;34m(\u001b[0m\u001b[0mself\u001b[0m\u001b[0;34m)\u001b[0m\u001b[0;34m:\u001b[0m\u001b[0;34m\u001b[0m\u001b[0;34m\u001b[0m\u001b[0m\n",
      "\u001b[0;32m/usr/local/lib/python3.6/dist-packages/pop/Pilot.py\u001b[0m in \u001b[0;36mtilt\u001b[0;34m(self, n)\u001b[0m\n\u001b[1;32m    380\u001b[0m     \u001b[0;32mdef\u001b[0m \u001b[0mtilt\u001b[0m\u001b[0;34m(\u001b[0m\u001b[0mself\u001b[0m\u001b[0;34m,\u001b[0m \u001b[0mn\u001b[0m\u001b[0;34m)\u001b[0m\u001b[0;34m:\u001b[0m\u001b[0;34m\u001b[0m\u001b[0;34m\u001b[0m\u001b[0m\n\u001b[1;32m    381\u001b[0m         \u001b[0;32mif\u001b[0m \u001b[0m_cat\u001b[0m\u001b[0;34m==\u001b[0m\u001b[0;36m0\u001b[0m \u001b[0;32mor\u001b[0m \u001b[0m_cat\u001b[0m\u001b[0;34m==\u001b[0m\u001b[0;36m1\u001b[0m \u001b[0;32mor\u001b[0m \u001b[0m_cat\u001b[0m\u001b[0;34m==\u001b[0m\u001b[0;36m3\u001b[0m \u001b[0;32mor\u001b[0m \u001b[0m_cat\u001b[0m\u001b[0;34m==\u001b[0m\u001b[0;36m6\u001b[0m\u001b[0;34m:\u001b[0m\u001b[0;34m\u001b[0m\u001b[0;34m\u001b[0m\u001b[0m\n\u001b[0;32m--> 382\u001b[0;31m             \u001b[0mself\u001b[0m\u001b[0;34m.\u001b[0m\u001b[0mpwm\u001b[0m\u001b[0;34m.\u001b[0m\u001b[0msetDuty\u001b[0m\u001b[0;34m(\u001b[0m\u001b[0mself\u001b[0m\u001b[0;34m.\u001b[0m\u001b[0mHorizontal_GPIO\u001b[0m\u001b[0;34m,\u001b[0m\u001b[0mself\u001b[0m\u001b[0;34m.\u001b[0m\u001b[0m_angle2duty\u001b[0m\u001b[0;34m(\u001b[0m\u001b[0mn\u001b[0m\u001b[0;34m+\u001b[0m\u001b[0mself\u001b[0m\u001b[0;34m.\u001b[0m\u001b[0mtiltCenterAngle\u001b[0m\u001b[0;34m)\u001b[0m\u001b[0;34m)\u001b[0m\u001b[0;34m\u001b[0m\u001b[0;34m\u001b[0m\u001b[0m\n\u001b[0m\u001b[1;32m    383\u001b[0m         \u001b[0;32melif\u001b[0m \u001b[0m_cat\u001b[0m\u001b[0;34m==\u001b[0m\u001b[0;36m5\u001b[0m\u001b[0;34m:\u001b[0m\u001b[0;34m\u001b[0m\u001b[0;34m\u001b[0m\u001b[0m\n\u001b[1;32m    384\u001b[0m             \u001b[0mself\u001b[0m\u001b[0;34m.\u001b[0m\u001b[0m_can\u001b[0m\u001b[0;34m.\u001b[0m\u001b[0mcamTilt\u001b[0m\u001b[0;34m(\u001b[0m\u001b[0mn\u001b[0m\u001b[0;34m+\u001b[0m\u001b[0mself\u001b[0m\u001b[0;34m.\u001b[0m\u001b[0mtiltCenterAngle\u001b[0m\u001b[0;34m)\u001b[0m\u001b[0;34m\u001b[0m\u001b[0;34m\u001b[0m\u001b[0m\n",
      "\u001b[0;32m/usr/local/lib/python3.6/dist-packages/pop/Pilot.py\u001b[0m in \u001b[0;36msetDuty\u001b[0;34m(self, channel, duty)\u001b[0m\n\u001b[1;32m     61\u001b[0m \u001b[0;34m\u001b[0m\u001b[0m\n\u001b[1;32m     62\u001b[0m         \u001b[0;32mif\u001b[0m \u001b[0mself\u001b[0m\u001b[0;34m.\u001b[0m\u001b[0mwait_i2c\u001b[0m\u001b[0;34m:\u001b[0m\u001b[0;34m\u001b[0m\u001b[0;34m\u001b[0m\u001b[0m\n\u001b[0;32m---> 63\u001b[0;31m             \u001b[0;32mwhile\u001b[0m \u001b[0mtime\u001b[0m\u001b[0;34m.\u001b[0m\u001b[0mtime\u001b[0m\u001b[0;34m(\u001b[0m\u001b[0;34m)\u001b[0m\u001b[0;34m-\u001b[0m\u001b[0m__main__\u001b[0m\u001b[0;34m.\u001b[0m\u001b[0mpwm_time_log\u001b[0m\u001b[0;34m<\u001b[0m\u001b[0;36m0.05\u001b[0m\u001b[0;34m:\u001b[0m \u001b[0mtime\u001b[0m\u001b[0;34m.\u001b[0m\u001b[0msleep\u001b[0m\u001b[0;34m(\u001b[0m\u001b[0;36m0.01\u001b[0m\u001b[0;34m)\u001b[0m\u001b[0;34m\u001b[0m\u001b[0;34m\u001b[0m\u001b[0m\n\u001b[0m\u001b[1;32m     64\u001b[0m         \u001b[0mself\u001b[0m\u001b[0;34m.\u001b[0m\u001b[0m_writeByte\u001b[0m\u001b[0;34m(\u001b[0m\u001b[0mself\u001b[0m\u001b[0;34m.\u001b[0m\u001b[0m_base_adr_low\u001b[0m \u001b[0;34m+\u001b[0m \u001b[0;36m4\u001b[0m \u001b[0;34m*\u001b[0m \u001b[0mchannel\u001b[0m\u001b[0;34m,\u001b[0m \u001b[0mdata\u001b[0m \u001b[0;34m&\u001b[0m \u001b[0;36m0xFF\u001b[0m\u001b[0;34m)\u001b[0m\u001b[0;34m\u001b[0m\u001b[0;34m\u001b[0m\u001b[0m\n\u001b[1;32m     65\u001b[0m         \u001b[0mself\u001b[0m\u001b[0;34m.\u001b[0m\u001b[0m_writeByte\u001b[0m\u001b[0;34m(\u001b[0m\u001b[0mself\u001b[0m\u001b[0;34m.\u001b[0m\u001b[0m_base_adr_high\u001b[0m \u001b[0;34m+\u001b[0m \u001b[0;36m4\u001b[0m \u001b[0;34m*\u001b[0m \u001b[0mchannel\u001b[0m\u001b[0;34m,\u001b[0m \u001b[0mdata\u001b[0m \u001b[0;34m>>\u001b[0m \u001b[0;36m8\u001b[0m\u001b[0;34m)\u001b[0m\u001b[0;34m\u001b[0m\u001b[0;34m\u001b[0m\u001b[0m\n",
      "\u001b[0;31mKeyboardInterrupt\u001b[0m: "
     ]
    }
   ],
   "source": [
    "import cv2\n",
    "from pop import Util,Pilot\n",
    "\n",
    "car = Pilot.AutoCar()\n",
    "\n",
    "\n",
    "\n",
    "Util.enable_imshow()\n",
    "\n",
    "cam = Util.gstrmer(width=640, height=480)\n",
    "\n",
    "camera = cv2.VideoCapture(cam, cv2.CAP_GSTREAMER)\n",
    "if not camera.isOpened():\n",
    "    print(\"Not found camera\")\n",
    "\n",
    "width = camera.get(cv2.CAP_PROP_FRAME_WIDTH)\n",
    "height = camera.get(cv2.CAP_PROP_FRAME_HEIGHT)\n",
    "print(\"init width: %d, init height: %d\" % (width,height))\n",
    "\n",
    "\n",
    "angle_p = 3\n",
    "angle_t = -20\n",
    "direction_p = 3\n",
    "direction_t = 3\n",
    "while True:\n",
    "#for _ in range(120):\n",
    "    ret, frame = camera.read()\n",
    "    \n",
    "    if not ret:\n",
    "        print(\"프레임 못 잡음\")\n",
    "        break\n",
    "\n",
    "    car.camPan(angle_p)\n",
    "    car.camTilt(angle_t)\n",
    "    cv2.imshow(\"soda\", frame)\n",
    "    \n",
    "    angle_p += direction_p\n",
    "    angle_t += direction_t\n",
    "    \n",
    "    if angle_p >=180:\n",
    "        direction_p = -3\n",
    "    elif angle_p <= 4:\n",
    "        direction_p = 3\n",
    "        \n",
    "    if angle_t >=90:\n",
    "        direction_t = -3\n",
    "    elif angle_t <= -20:\n",
    "        direction_t = 3\n",
    " \n",
    "    \n",
    "\n",
    "\n",
    "camera.release()\n",
    "cv2.destroyAllWindows()"
   ]
  },
  {
   "cell_type": "code",
   "execution_count": 41,
   "metadata": {},
   "outputs": [
    {
     "name": "stdout",
     "output_type": "stream",
     "text": [
      "init width: 640, init height: 480\n"
     ]
    },
    {
     "data": {
      "application/vnd.jupyter.widget-view+json": {
       "model_id": "8fedfffee8e24fbcb467207a2e5f8b2f",
       "version_major": 2,
       "version_minor": 0
      },
      "text/plain": [
       "Image(value=b'\\xff\\xd8\\xff\\xe0\\x00\\x10JFIF\\x00\\x01\\x01\\x00\\x00\\x01\\x00\\x01\\x00\\x00\\xff\\xdb\\x00C\\x00\\x02\\x01\\x0…"
      ]
     },
     "metadata": {},
     "output_type": "display_data"
    }
   ],
   "source": [
    "import cv2\n",
    "from pop import Util, Pilot\n",
    "\n",
    "Util.enable_imshow()\n",
    "car = Pilot.AutoCar()\n",
    "\n",
    "cam = Util.gstrmer(width=640, height=480)\n",
    "\n",
    "camera = cv2.VideoCapture(cam, cv2.CAP_GSTREAMER)\n",
    "if not camera.isOpened():\n",
    "    print(\"Not found camera\")\n",
    "\n",
    "width = camera.get(cv2.CAP_PROP_FRAME_WIDTH)\n",
    "height = camera.get(cv2.CAP_PROP_FRAME_HEIGHT)\n",
    "print(\"init width: %d, init height: %d\" % (width, height))\n",
    "\n",
    "for i in range(120):                     # for문 이용 카메라 촬영하면서 우로 이동\n",
    "    ret, frame = camera.read()\n",
    "    car.camPan(i)\n",
    "    if not ret:                          # ret가 0이 아니면 코드를 실행\n",
    "        break\n",
    "\n",
    "    cv2.imshow(\"soda\", frame)\n",
    "\n",
    "for i in range(120):                     # for문 이용 카메라 촬영하면서 좌로 이동\n",
    "    ret, frame = camera.read()\n",
    "    car.camPan(119 - i)\n",
    "    if not ret:\n",
    "        break\n",
    "\n",
    "    cv2.imshow(\"soda\", frame)\n",
    "\n",
    "camera.release()\n",
    "cv2.destroyAllWindows()"
   ]
  },
  {
   "cell_type": "code",
   "execution_count": 42,
   "metadata": {},
   "outputs": [
    {
     "data": {
      "application/vnd.jupyter.widget-view+json": {
       "model_id": "8fedfffee8e24fbcb467207a2e5f8b2f",
       "version_major": 2,
       "version_minor": 0
      },
      "text/plain": [
       "Image(value=b'\\xff\\xd8\\xff\\xe0\\x00\\x10JFIF\\x00\\x01\\x01\\x00\\x00\\x01\\x00\\x01\\x00\\x00\\xff\\xdb\\x00C\\x00\\x02\\x01\\x0…"
      ]
     },
     "metadata": {},
     "output_type": "display_data"
    }
   ],
   "source": [
    "import cv2\n",
    "from pop import Util\n",
    "\n",
    "Util.enable_imshow()\n",
    "\n",
    "cam=Util.gstrmer(width=640, height=480)\n",
    "camera=cv2.VideoCapture(cam, cv2.CAP_GSTREAMER)\n",
    "if not camera.isOpened():\n",
    "    print(\"Not found camera\")\n",
    "    \n",
    "fourcc = cv2.VideoWriter_fourcc(*\"X264\")\n",
    "out = cv2.VideoWriter(\"soda.avi\", fourcc, 30, (640,480))\n",
    "\n",
    "for _ in range(120):\n",
    "    ret, frame = camera.read()\n",
    "    framGray = cv2.cvtColor(frame, cv2.COLOR_BGR2GRAY)\n",
    "    out.write(frame)\n",
    "    \n",
    "    cv2.imshow(\"soda\", framGray)\n",
    "    \n",
    "camera.release()\n",
    "cv2.destroyAllWindows()"
   ]
  },
  {
   "cell_type": "code",
   "execution_count": 71,
   "metadata": {},
   "outputs": [
    {
     "data": {
      "application/vnd.jupyter.widget-view+json": {
       "model_id": "8fedfffee8e24fbcb467207a2e5f8b2f",
       "version_major": 2,
       "version_minor": 0
      },
      "text/plain": [
       "Image(value=b'\\xff\\xd8\\xff\\xe0\\x00\\x10JFIF\\x00\\x01\\x01\\x00\\x00\\x01\\x00\\x01\\x00\\x00\\xff\\xdb\\x00C\\x00\\x02\\x01\\x0…"
      ]
     },
     "metadata": {},
     "output_type": "display_data"
    }
   ],
   "source": [
    "import cv2\n",
    "from pop import Util\n",
    "\n",
    "Util.enable_imshow()\n",
    "\n",
    "cam = Util.gstrmer(width=640, height=480)\n",
    "camera = cv2.VideoCapture(cam, cv2.CAP_GSTREAMER)\n",
    "if not camera.isOpened():\n",
    "    print(\"NOT found camera\")\n",
    "    \n",
    "for _ in range(120):\n",
    "    ret, frame = camera.read()\n",
    "    img = cv2.Canny(frame, 100, 200)\n",
    "    \n",
    "    cv2.imshow(\"soda\", img)\n",
    "    \n",
    "camera.release()\n",
    "cv2.destroyAllWindows()"
   ]
  },
  {
   "cell_type": "code",
   "execution_count": 3,
   "metadata": {},
   "outputs": [
    {
     "data": {
      "application/vnd.jupyter.widget-view+json": {
       "model_id": "236241bb1deb4f1b9f5d1bfb24dc654d",
       "version_major": 2,
       "version_minor": 0
      },
      "text/plain": [
       "Image(value=b'\\xff\\xd8\\xff\\xe0\\x00\\x10JFIF\\x00\\x01\\x01\\x00\\x00\\x01\\x00\\x01\\x00\\x00\\xff\\xdb\\x00C\\x00\\x02\\x01\\x0…"
      ]
     },
     "metadata": {},
     "output_type": "display_data"
    }
   ],
   "source": [
    "import cv2\n",
    "from pop import Util\n",
    "\n",
    "Util.enable_imshow()\n",
    "\n",
    "haar_face='/usr/local/share/opencv4/haarcascades/haarcascade_frontalface_default.xml'\n",
    "face_cascade = cv2.CascadeClassifier(haar_face)\n",
    "\n",
    "cam = Util.gstrmer(width=640, height=480)\n",
    "camera = cv2.VideoCapture(cam, cv2.CAP_GSTREAMER)\n",
    "if not camera.isOpened():\n",
    "    print(\"NOT found camera\")\n",
    "    \n",
    "for _ in range(300):\n",
    "    ret, frame = camera.read()\n",
    "    gray = cv2.cvtColor(frame, cv2.COLOR_BGR2GRAY)\n",
    "    faces = face_cascade.detectMultiScale(gray, scaleFactor = 1.3, minNeighbors = 1, minSize = (100, 100))\n",
    "    \n",
    "    for (x, y, w, h) in faces:\n",
    "        cv2.rectangle(frame, (x, y), (x+w, y+h), (255, 0 , 0), 2)\n",
    "    cv2.imshow('img', frame)\n",
    "        \n",
    "camera.release()\n",
    "cv2.destroyAllWindows()"
   ]
  },
  {
   "cell_type": "code",
   "execution_count": 23,
   "metadata": {},
   "outputs": [],
   "source": [
    "import pyaudio\n",
    "import wave\n",
    "\n",
    "w = wave.open(\"/usr/share/sounds/alsa/Front_Center.wav\", \"rb\")\n",
    "data = w.readframes(w.getnframes())\n",
    "\n",
    "p = pyaudio.PyAudio()\n",
    "stream = p.open(format = p.get_format_from_width(2),\n",
    "               channels = 1,\n",
    "               rate = 48000,\n",
    "               output = True)\n",
    "\n",
    "stream.write(data)\n",
    "\n",
    "stream.stop_stream()\n",
    "stream.close()\n",
    "\n",
    "stream = p.open(format = p.get_format_from_width(w.getsampwidth()),\n",
    "          channels = w.getnchannels(),\n",
    "          rate = w.getframerate(),\n",
    "          output = True)\n",
    "\n",
    "w.rewind()\n",
    "\n",
    "data = w.readframes(1024)\n",
    "while len(data) > 0:\n",
    "    stream.write(data)\n",
    "    data = w.readframes(1024)\n",
    "    \n",
    "w.close()\n",
    "stream.close()\n",
    "p.terminate()"
   ]
  },
  {
   "cell_type": "code",
   "execution_count": 12,
   "metadata": {},
   "outputs": [
    {
     "ename": "KeyboardInterrupt",
     "evalue": "",
     "output_type": "error",
     "traceback": [
      "\u001b[0;31m---------------------------------------------------------------------------\u001b[0m",
      "\u001b[0;31mKeyboardInterrupt\u001b[0m                         Traceback (most recent call last)",
      "\u001b[0;32m<ipython-input-12-77a0d4d8362d>\u001b[0m in \u001b[0;36m<module>\u001b[0;34m\u001b[0m\n\u001b[1;32m      8\u001b[0m \u001b[0;34m\u001b[0m\u001b[0m\n\u001b[1;32m      9\u001b[0m \u001b[0mw\u001b[0m \u001b[0;34m=\u001b[0m \u001b[0mwave\u001b[0m\u001b[0;34m.\u001b[0m\u001b[0mopen\u001b[0m\u001b[0;34m(\u001b[0m\u001b[0;34m\"/usr/share/sounds/alsa/Side_Left.wav\"\u001b[0m\u001b[0;34m,\u001b[0m \u001b[0;34m\"rb\"\u001b[0m\u001b[0;34m)\u001b[0m\u001b[0;34m\u001b[0m\u001b[0;34m\u001b[0m\u001b[0m\n\u001b[0;32m---> 10\u001b[0;31m \u001b[0mp\u001b[0m \u001b[0;34m=\u001b[0m \u001b[0mpyaudio\u001b[0m\u001b[0;34m.\u001b[0m\u001b[0mPyAudio\u001b[0m\u001b[0;34m(\u001b[0m\u001b[0;34m)\u001b[0m\u001b[0;34m\u001b[0m\u001b[0;34m\u001b[0m\u001b[0m\n\u001b[0m\u001b[1;32m     11\u001b[0m \u001b[0;34m\u001b[0m\u001b[0m\n\u001b[1;32m     12\u001b[0m stream = p.open(format = p.get_format_from_width(w.getsampwidth()),\n",
      "\u001b[0;32m/usr/local/lib/python3.6/dist-packages/pyaudio.py\u001b[0m in \u001b[0;36m__init__\u001b[0;34m(self)\u001b[0m\n\u001b[1;32m    675\u001b[0m         \u001b[0;34m\"\"\"Initialize PortAudio.\"\"\"\u001b[0m\u001b[0;34m\u001b[0m\u001b[0;34m\u001b[0m\u001b[0m\n\u001b[1;32m    676\u001b[0m \u001b[0;34m\u001b[0m\u001b[0m\n\u001b[0;32m--> 677\u001b[0;31m         \u001b[0mpa\u001b[0m\u001b[0;34m.\u001b[0m\u001b[0minitialize\u001b[0m\u001b[0;34m(\u001b[0m\u001b[0;34m)\u001b[0m\u001b[0;34m\u001b[0m\u001b[0;34m\u001b[0m\u001b[0m\n\u001b[0m\u001b[1;32m    678\u001b[0m         \u001b[0mself\u001b[0m\u001b[0;34m.\u001b[0m\u001b[0m_streams\u001b[0m \u001b[0;34m=\u001b[0m \u001b[0mset\u001b[0m\u001b[0;34m(\u001b[0m\u001b[0;34m)\u001b[0m\u001b[0;34m\u001b[0m\u001b[0;34m\u001b[0m\u001b[0m\n\u001b[1;32m    679\u001b[0m \u001b[0;34m\u001b[0m\u001b[0m\n",
      "\u001b[0;31mKeyboardInterrupt\u001b[0m: "
     ]
    }
   ],
   "source": [
    "import pyaudio\n",
    "import wave\n",
    "import time\n",
    "\n",
    "def callback(in_data, frame_count, time_info, status):\n",
    "    data = w.readframes(frame_count)\n",
    "    return (data, pyaudio.paContinue)\n",
    "\n",
    "w = wave.open(\"/usr/share/sounds/alsa/Side_Left.wav\", \"rb\")\n",
    "p = pyaudio.PyAudio()\n",
    "\n",
    "stream = p.open(format = p.get_format_from_width(w.getsampwidth()),\n",
    "          channels = w.getnchannels(),\n",
    "          rate = w.getframerate(),\n",
    "          output = True,\n",
    "          stream_callback = callback)\n",
    "\n",
    "stream.start_stream()\n",
    "\n",
    "while stream.is_active:\n",
    "    print(\"main work...\")\n",
    "    time.sleep(0.1)\n",
    "    \n",
    "stream.stop_stream()\n",
    "stream.close()\n",
    "p.terminate()"
   ]
  },
  {
   "cell_type": "code",
   "execution_count": 52,
   "metadata": {},
   "outputs": [],
   "source": [
    "import pyaudio\n",
    "import numpy as np\n",
    "\n",
    "volume = 0.5\n",
    "fs = 48000\n",
    "duration = 1.0\n",
    "f = 440.0\n",
    "\n",
    "data = (np.sin(2 * np.pi * np.arange(fs * duration) * f / fs)).astype(np.float32)\n",
    "\n",
    "p = pyaudio.PyAudio()\n",
    "stream = p.open(format = pyaudio.paFloat32, channels = 1, rate = fs, output = True)\n",
    "stream.write(volume * data)\n",
    "\n",
    "stream.stop_stream()\n",
    "stream.close()\n",
    "p.terminate()"
   ]
  },
  {
   "cell_type": "code",
   "execution_count": null,
   "metadata": {},
   "outputs": [],
   "source": [
    "import pyaudio\n",
    "import numpy as np\n",
    "\n",
    "class Tone:\n",
    "    def __init__(self, volume = .5, rate = 48000, channels = 1):\n",
    "        self.volume = volume    # self.volume : 멤버 변수    volume : 매개변수\n",
    "        self.rate = rate\n",
    "        self.channels = channels\n",
    "        self.p = pyaudio.PyAudio()\n",
    "        self.stream = self.p.open(format = pyaudio.paFloat32, channels = self.channels, rate = self.rate, output = True)\n",
    "        \n",
    "    def __enter__(self):\n",
    "        return self\n",
    "        \n",
    "    def __exit__(self, type, value, traceback):\n",
    "        self.stop()\n",
    "            \n",
    "    def stop(self):\n",
    "        self.stream.stop_stream()\n",
    "        self.stream.close()\n",
    "        self.p.terminate()\n",
    "            \n",
    "    def play(self, octave, note, duration):\n",
    "        f = 2 ** (octave) * 55 * 2 ** (((note) - 10) / 12)\n",
    "        sample = (np.sin(2 * np.pi * np.arange(self.rate * duration) * f / self.rate)).astype(np.float32)\n",
    "        self.stream.write(self.volume * sample)\n",
    "            \n",
    "with Tone() as tone:\n",
    "    for n in [1, 3, 5, 6, 8, 10, 12, 131]:\n",
    "        tone.play(3, n, 4)"
   ]
  },
  {
   "cell_type": "code",
   "execution_count": null,
   "metadata": {},
   "outputs": [],
   "source": [
    "# import pyaudio\n",
    "import numpy as np\n",
    "\n",
    "class Tone:\n",
    "    def __init__(self, volume = .5, rate = 48000, channels = 1):\n",
    "        self.volume = volume    # self.volume : 멤버 변수    volume : 매개변수\n",
    "        self.rate = rate\n",
    "        self.channels = channels\n",
    "        self.p = pyaudio.PyAudio()\n",
    "        self.stream = self.p.open(format = pyaudio.paFloat32, channels = self.channels, rate = self.rate, output = True)\n",
    "        \n",
    "    def __enter__(self):\n",
    "        return self\n",
    "        \n",
    "    def __exit__(self, type, value, traceback):\n",
    "        self.stop()\n",
    "            \n",
    "    def stop(self):\n",
    "        self.stream.stop_stream()\n",
    "        self.stream.close()\n",
    "        self.p.terminate()\n",
    "            \n",
    "    def play(self, octave, note, duration):\n",
    "        f = 2 ** (octave) * 55 * 2 ** (((note) - 10) / 12)\n",
    "        sample = (np.sin(2 * np.pi * np.arange(self.rate * duration) * f / self.rate)).astype(np.float32)\n",
    "        self.stream.write(self.volume * sample)\n",
    "            \n",
    "with Tone() as tone:\n",
    "#     for n in [1, 3, 5, 6, 8, 10, 12]:\n",
    "#         tone.play(3, n, 4)\n",
    "    tone = input(\"1, 3, 5, 6, 8, 10, 12 중 하나 입력 : \")\n",
    "    if tone == 1:\n",
    "        tone.play(1)"
   ]
  },
  {
   "cell_type": "code",
   "execution_count": null,
   "metadata": {},
   "outputs": [],
   "source": [
    "import numpy as np\n",
    "from pop import Cds, delay\n",
    "from pop import Pilot\n",
    "\n",
    "car = Pilot.AutoCar()\n",
    "cds = Cds(7)\n",
    "\n",
    "while True:\n",
    "    value = cds.readAverage()\n",
    "    print(value)\n",
    "    if value >= 700:\n",
    "        car.forward(99)\n",
    "    if value < 700:\n",
    "        car.forward(20)\n",
    "    if value < 50:\n",
    "        car.stop()\n",
    "        break\n",
    "    delay(500)"
   ]
  },
  {
   "cell_type": "code",
   "execution_count": null,
   "metadata": {},
   "outputs": [],
   "source": [
    "import numpy as np\n",
    "from pop import Cds, delay\n",
    "from pop import Pilot\n",
    "\n",
    "car = Pilot.AutoCar()\n",
    "cds = Cds(7)\n",
    "\n",
    "while True:\n",
    "    value = cds.readAverage()\n",
    "    print(value)\n",
    "    car.forward(value/16)\n",
    "    if value < 50:\n",
    "        car.stop()\n",
    "    delay(500)"
   ]
  },
  {
   "cell_type": "code",
   "execution_count": 48,
   "metadata": {},
   "outputs": [
    {
     "name": "stdout",
     "output_type": "stream",
     "text": [
      "<class 'pandas.core.series.Series'>\n",
      "온도       32\n",
      "습도       68\n",
      "강수량     220\n",
      "불쾌지수     77\n",
      "dtype: int64\n",
      "Index(['온도', '습도', '강수량', '불쾌지수'], dtype='object')\n",
      "[ 32  68 220  77]\n",
      "32\n",
      "68\n",
      "77\n"
     ]
    }
   ],
   "source": [
    "import pandas as pd  # pandas 라이브러리를 pd라는 이름으로 임포트\n",
    "\n",
    "# 데이터와 인덱스를 정의\n",
    "value = [32, 68, 220, 77]  # 값 리스트\n",
    "index = [\"온도\", \"습도\", \"강수량\", \"불쾌지수\"]  # 각 값의 인덱스\n",
    "\n",
    "# Series 객체 생성\n",
    "sr = pd.Series(value, index=index)  # value와 index를 사용하여 Series 생성\n",
    "\n",
    "# Series의 타입과 내용을 출력\n",
    "print(type(sr))  # sr의 타입 출력\n",
    "print(sr)  # sr의 내용을 출력\n",
    "print(sr.index)  # sr의 인덱스 출력\n",
    "print(sr.values)  # sr의 값 출력\n",
    "\n",
    "print(sr.iloc[0])        # iloc 행번호로 출력\n",
    "print(sr.loc['습도'])    # loc 인덱스로 출력\n",
    "print(sr.iloc[-1])"
   ]
  },
  {
   "cell_type": "code",
   "execution_count": 49,
   "metadata": {},
   "outputs": [
    {
     "name": "stdout",
     "output_type": "stream",
     "text": [
      "온도       32\n",
      "습도       68\n",
      "강수량     220\n",
      "불쾌지수     77\n",
      "dtype: int64\n"
     ]
    }
   ],
   "source": [
    "print(sr)"
   ]
  },
  {
   "cell_type": "code",
   "execution_count": 51,
   "metadata": {},
   "outputs": [],
   "source": [
    "sr.loc['좋음'] = 0    # 추가"
   ]
  },
  {
   "cell_type": "code",
   "execution_count": 52,
   "metadata": {},
   "outputs": [
    {
     "name": "stdout",
     "output_type": "stream",
     "text": [
      "온도       32\n",
      "습도       68\n",
      "강수량     220\n",
      "불쾌지수     77\n",
      "좋음        0\n",
      "dtype: int64\n",
      "온도       32\n",
      "습도       68\n",
      "강수량     220\n",
      "불쾌지수     77\n",
      "dtype: int64\n"
     ]
    }
   ],
   "source": [
    "sr2 = sr.drop('좋음')\n",
    "print(sr)                # series의 원본에는 삭제가 되지 않는다\n",
    "print(sr2)                # 삭제된 새로운 series"
   ]
  },
  {
   "cell_type": "code",
   "execution_count": 53,
   "metadata": {},
   "outputs": [
    {
     "name": "stdout",
     "output_type": "stream",
     "text": [
      "온도      32\n",
      "습도      68\n",
      "강수량    220\n",
      "좋음       0\n",
      "dtype: int64\n"
     ]
    }
   ],
   "source": [
    "sr = sr.drop(\"불쾌지수\")\n",
    "print(sr)"
   ]
  },
  {
   "cell_type": "code",
   "execution_count": 54,
   "metadata": {},
   "outputs": [
    {
     "name": "stdout",
     "output_type": "stream",
     "text": [
      "하나    19\n",
      "둘     14\n",
      "셋     12\n",
      "dtype: int64\n",
      "하나    19\n",
      "둘     22\n",
      "셋     12\n",
      "dtype: int64\n",
      "하나     1\n",
      "둘     22\n",
      "셋     12\n",
      "dtype: int64\n"
     ]
    }
   ],
   "source": [
    "data = [19, 14, 12]\n",
    "index = ['하나', '둘', '셋']\n",
    "s = pd.Series(data, index)\n",
    "print(s)\n",
    "\n",
    "s['둘'] = 22                    # 인덱스\n",
    "print(s)                        \n",
    "s.loc['하나'] = 1\n",
    "print(s)"
   ]
  },
  {
   "cell_type": "code",
   "execution_count": 55,
   "metadata": {},
   "outputs": [
    {
     "name": "stdout",
     "output_type": "stream",
     "text": [
      "0    10\n",
      "1    20\n",
      "2    30\n",
      "dtype: int64\n",
      "0    15\n",
      "1    25\n",
      "2    35\n",
      "dtype: int64\n"
     ]
    }
   ],
   "source": [
    "from pandas import Series\n",
    "s = Series([10, 20, 30])\n",
    "print(s)\n",
    "\n",
    "print(s + 5)"
   ]
  },
  {
   "cell_type": "code",
   "execution_count": 57,
   "metadata": {},
   "outputs": [
    {
     "name": "stdout",
     "output_type": "stream",
     "text": [
      "0     9\n",
      "1    18\n",
      "2    27\n",
      "3    36\n",
      "4    45\n",
      "dtype: int64\n"
     ]
    }
   ],
   "source": [
    "h = Series([10, 20, 30, 40, 50])\n",
    "l = Series([1, 2, 3, 4, 5])\n",
    "diff = (h - l)\n",
    "print(diff)"
   ]
  },
  {
   "cell_type": "code",
   "execution_count": 58,
   "metadata": {},
   "outputs": [
    {
     "name": "stdout",
     "output_type": "stream",
     "text": [
      "0    False\n",
      "1    False\n",
      "2    False\n",
      "3     True\n",
      "4     True\n",
      "dtype: bool\n"
     ]
    }
   ],
   "source": [
    "cond = diff > 30\n",
    "print(cond)"
   ]
  },
  {
   "cell_type": "code",
   "execution_count": 65,
   "metadata": {},
   "outputs": [
    {
     "name": "stdout",
     "output_type": "stream",
     "text": [
      "0    False\n",
      "1     True\n",
      "2     True\n",
      "3     True\n",
      "4    False\n",
      "dtype: bool\n"
     ]
    },
    {
     "data": {
      "text/plain": [
       "1    300\n",
       "2    400\n",
       "3    500\n",
       "dtype: int64"
      ]
     },
     "execution_count": 65,
     "metadata": {},
     "output_type": "execute_result"
    }
   ],
   "source": [
    "# 고가와 저가의 차이가 100 이상인 고가를 출력하시오\n",
    "저가 = pd.Series([10, 200, 200, 400, 600])\n",
    "고가 = pd.Series([100, 300, 400, 500, 600])\n",
    "\n",
    "cond = (고가 - 저가) >= 100\n",
    "print(cond)\n",
    "\n",
    "고가[cond]"
   ]
  },
  {
   "cell_type": "code",
   "execution_count": 89,
   "metadata": {},
   "outputs": [
    {
     "data": {
      "text/plain": [
       "Index(['월', '화'], dtype='object')"
      ]
     },
     "execution_count": 89,
     "metadata": {},
     "output_type": "execute_result"
    }
   ],
   "source": [
    "# 종가가 8만원 이상이고 90000원 미만의 요일을 출력하시오\n",
    "data = [80010, 87100,77800, 99000, 79900]\n",
    "요일 = ['월', '화', '수', '목', '금']\n",
    "\n",
    "\n",
    "종가 = pd.Series(data, 요일)\n",
    "종가\n",
    "\n",
    "조건 = (80000 <= 종가) & (종가 < 90000)\n",
    "조건\n",
    "\n",
    "종가[조건].index"
   ]
  },
  {
   "cell_type": "code",
   "execution_count": 92,
   "metadata": {},
   "outputs": [
    {
     "name": "stdout",
     "output_type": "stream",
     "text": [
      "[[0 1]\n",
      " [2 3]]\n",
      "[[3 2]\n",
      " [1 0]]\n",
      "[[1 0]\n",
      " [9 4]]\n"
     ]
    }
   ],
   "source": [
    "import numpy as np\n",
    "\n",
    "x = np.arange(4).reshape(2, 2)\n",
    "print(x)\n",
    "\n",
    "y = np.arange(3, -1, -1).reshape(2, 2)\n",
    "print(y)\n",
    "\n",
    "s1 = np.matmul(x, y)\n",
    "print(s1)"
   ]
  },
  {
   "cell_type": "code",
   "execution_count": 99,
   "metadata": {},
   "outputs": [
    {
     "name": "stdout",
     "output_type": "stream",
     "text": [
      "[[0 1]\n",
      " [2 3]]\n",
      "[[0 1]\n",
      " [2 3]]\n",
      "[[0 1]\n",
      " [4 9]]\n",
      "[[0.         1.        ]\n",
      " [1.41421356 1.73205081]]\n",
      "[[      -inf 0.        ]\n",
      " [0.69314718 1.09861229]]\n"
     ]
    },
    {
     "name": "stderr",
     "output_type": "stream",
     "text": [
      "/usr/local/lib/python3.6/dist-packages/ipykernel_launcher.py:10: RuntimeWarning: divide by zero encountered in log\n",
      "  # Remove the CWD from sys.path while we load stuff.\n"
     ]
    }
   ],
   "source": [
    "x = np.arange(4).reshape(2, 2)\n",
    "print(x)\n",
    "\n",
    "s1 = np.abs(x)      # 절댓값\n",
    "print(s1)\n",
    "s2 = np.square(x)   # 제곱\n",
    "print(s2)\n",
    "s3 = np.sqrt(x)     # 제곱근\n",
    "print(s3)\n",
    "s4 = np.log(x)      # 로그\n",
    "print(s4)"
   ]
  },
  {
   "cell_type": "code",
   "execution_count": 100,
   "metadata": {},
   "outputs": [
    {
     "name": "stdout",
     "output_type": "stream",
     "text": [
      "[[0 1]\n",
      " [2 3]]\n",
      "[[3 2]\n",
      " [1 0]]\n",
      "[[3 2]\n",
      " [2 3]]\n"
     ]
    }
   ],
   "source": [
    "x = np.arange(4).reshape(2, 2)\n",
    "print(x)\n",
    "\n",
    "y = np.arange(3, -1, -1).reshape(2, 2)\n",
    "print(y)\n",
    "\n",
    "s1 = np.where(x > y, x, y)\n",
    "print(s1)"
   ]
  },
  {
   "cell_type": "code",
   "execution_count": 101,
   "metadata": {},
   "outputs": [
    {
     "name": "stdout",
     "output_type": "stream",
     "text": [
      "    0   1    2   3\n",
      "0  32  68  220  72\n",
      "1  20  30    0  12\n",
      "2  38  81    0  91\n"
     ]
    }
   ],
   "source": [
    "import pandas as pd\n",
    "\n",
    "values = [[32, 68, 220, 72], [20, 30, 0, 12], [38, 81, 0, 91]]               # 3 X 4 2차원\n",
    "df = pd.DataFrame(values)\n",
    "print(df)"
   ]
  },
  {
   "cell_type": "code",
   "execution_count": 102,
   "metadata": {},
   "outputs": [
    {
     "data": {
      "text/plain": [
       "20"
      ]
     },
     "execution_count": 102,
     "metadata": {},
     "output_type": "execute_result"
    }
   ],
   "source": [
    "df[0][1]"
   ]
  },
  {
   "cell_type": "code",
   "execution_count": 104,
   "metadata": {},
   "outputs": [
    {
     "name": "stdout",
     "output_type": "stream",
     "text": [
      "68\n"
     ]
    }
   ],
   "source": [
    "list = [[32, 68, 220, 72], [20, 30, 0, 12], [38, 81, 0, 91]]\n",
    "print(list[0][1])"
   ]
  },
  {
   "cell_type": "code",
   "execution_count": 105,
   "metadata": {},
   "outputs": [
    {
     "name": "stdout",
     "output_type": "stream",
     "text": [
      "     온도  습도  강수량  불쾌지수\n",
      "초여름  32  68  220    72\n",
      "늦봄   20  30    0    12\n",
      "한여름  38  81    0    91\n"
     ]
    }
   ],
   "source": [
    "import pandas as pd\n",
    "\n",
    "values = [[32, 68, 220, 72], [20, 30, 0, 12], [38, 81, 0, 91]]\n",
    "\n",
    "columns = ['온도', '습도', '강수량', '불쾌지수']\n",
    "index = ['초여름', '늦봄', '한여름']\n",
    "df = pd.DataFrame(values, index, columns)\n",
    "print(df)"
   ]
  },
  {
   "cell_type": "code",
   "execution_count": 106,
   "metadata": {},
   "outputs": [
    {
     "name": "stdout",
     "output_type": "stream",
     "text": [
      "초여름    32\n",
      "늦봄     20\n",
      "한여름    38\n",
      "Name: 온도, dtype: int64\n"
     ]
    }
   ],
   "source": [
    "print(df['온도'])"
   ]
  },
  {
   "cell_type": "code",
   "execution_count": 108,
   "metadata": {},
   "outputs": [
    {
     "name": "stdout",
     "output_type": "stream",
     "text": [
      "20\n"
     ]
    }
   ],
   "source": [
    "print(df['온도']['늦봄'])"
   ]
  },
  {
   "cell_type": "code",
   "execution_count": 127,
   "metadata": {},
   "outputs": [
    {
     "name": "stdout",
     "output_type": "stream",
     "text": [
      "    온도  습도  강수량  불쾌지수\n",
      "늦봄  20  30    0    12\n",
      "    온도  습도  강수량  불쾌지수\n",
      "늦봄  20  30    0    12\n"
     ]
    }
   ],
   "source": [
    "print(df.loc['늦봄'])    # loc: 인덱스, Series\n",
    "print(df.iloc[[1]])        # iloc: 행 번호"
   ]
  },
  {
   "cell_type": "code",
   "execution_count": 122,
   "metadata": {},
   "outputs": [
    {
     "name": "stdout",
     "output_type": "stream",
     "text": [
      "     온도  습도  강수량  불쾌지수\n",
      "초여름  32  68  220    72\n",
      "늦봄   20  30    0    12\n",
      "한여름  38  81    0    91\n",
      "Index(['초여름', '늦봄', '한여름'], dtype='object')\n",
      "Index(['온도', '습도', '강수량', '불쾌지수'], dtype='object')\n",
      "[[ 32  68 220  72]\n",
      " [ 20  30   0  12]\n",
      " [ 38  81   0  91]]\n"
     ]
    }
   ],
   "source": [
    "values = [[32, 68, 220, 72], [20, 30, 0, 12], [38, 81, 0, 91]]\n",
    "\n",
    "columns = ['온도', '습도', '강수량', '불쾌지수']\n",
    "index = ['초여름', '늦봄', '한여름']\n",
    "df = pd.DataFrame(values, index, colums)\n",
    "\n",
    "print(df)\n",
    "print(df.index)\n",
    "print(df.columns)\n",
    "print(df.values)"
   ]
  },
  {
   "cell_type": "code",
   "execution_count": 125,
   "metadata": {},
   "outputs": [
    {
     "name": "stdout",
     "output_type": "stream",
     "text": [
      "     온도  강수량\n",
      "초여름  32  220\n",
      "늦봄   20    0\n",
      "한여름  38    0\n"
     ]
    }
   ],
   "source": [
    "print(df[['온도', '강수량']])"
   ]
  },
  {
   "cell_type": "code",
   "execution_count": 128,
   "metadata": {},
   "outputs": [
    {
     "data": {
      "text/html": [
       "<div>\n",
       "<style scoped>\n",
       "    .dataframe tbody tr th:only-of-type {\n",
       "        vertical-align: middle;\n",
       "    }\n",
       "\n",
       "    .dataframe tbody tr th {\n",
       "        vertical-align: top;\n",
       "    }\n",
       "\n",
       "    .dataframe thead th {\n",
       "        text-align: right;\n",
       "    }\n",
       "</style>\n",
       "<table border=\"1\" class=\"dataframe\">\n",
       "  <thead>\n",
       "    <tr style=\"text-align: right;\">\n",
       "      <th></th>\n",
       "      <th>온도</th>\n",
       "      <th>습도</th>\n",
       "      <th>강수량</th>\n",
       "      <th>불쾌지수</th>\n",
       "    </tr>\n",
       "  </thead>\n",
       "  <tbody>\n",
       "    <tr>\n",
       "      <th>초여름</th>\n",
       "      <td>32</td>\n",
       "      <td>68</td>\n",
       "      <td>220</td>\n",
       "      <td>72</td>\n",
       "    </tr>\n",
       "    <tr>\n",
       "      <th>늦봄</th>\n",
       "      <td>20</td>\n",
       "      <td>30</td>\n",
       "      <td>0</td>\n",
       "      <td>12</td>\n",
       "    </tr>\n",
       "  </tbody>\n",
       "</table>\n",
       "</div>"
      ],
      "text/plain": [
       "     온도  습도  강수량  불쾌지수\n",
       "초여름  32  68  220    72\n",
       "늦봄   20  30    0    12"
      ]
     },
     "execution_count": 128,
     "metadata": {},
     "output_type": "execute_result"
    }
   ],
   "source": [
    "df.iloc[[0, 1]]"
   ]
  },
  {
   "cell_type": "code",
   "execution_count": 138,
   "metadata": {},
   "outputs": [
    {
     "name": "stdout",
     "output_type": "stream",
     "text": [
      "     온도  습도  강수량  불쾌지수\n",
      "초여름  32  68  220    72\n",
      "늦봄   20  30    0    12\n",
      "     온도  습도  강수량  불쾌지수\n",
      "초여름  32  68  220    72\n",
      "늦봄   20  30    0    12\n"
     ]
    }
   ],
   "source": [
    "print(df.iloc[[0, 1]])\n",
    "print(df.loc[['초여름', '늦봄']])"
   ]
  },
  {
   "cell_type": "code",
   "execution_count": 131,
   "metadata": {},
   "outputs": [
    {
     "data": {
      "text/html": [
       "<div>\n",
       "<style scoped>\n",
       "    .dataframe tbody tr th:only-of-type {\n",
       "        vertical-align: middle;\n",
       "    }\n",
       "\n",
       "    .dataframe tbody tr th {\n",
       "        vertical-align: top;\n",
       "    }\n",
       "\n",
       "    .dataframe thead th {\n",
       "        text-align: right;\n",
       "    }\n",
       "</style>\n",
       "<table border=\"1\" class=\"dataframe\">\n",
       "  <thead>\n",
       "    <tr style=\"text-align: right;\">\n",
       "      <th></th>\n",
       "      <th>온도</th>\n",
       "      <th>습도</th>\n",
       "      <th>강수량</th>\n",
       "      <th>불쾌지수</th>\n",
       "    </tr>\n",
       "  </thead>\n",
       "  <tbody>\n",
       "    <tr>\n",
       "      <th>초여름</th>\n",
       "      <td>32</td>\n",
       "      <td>68</td>\n",
       "      <td>220</td>\n",
       "      <td>72</td>\n",
       "    </tr>\n",
       "    <tr>\n",
       "      <th>늦봄</th>\n",
       "      <td>20</td>\n",
       "      <td>30</td>\n",
       "      <td>0</td>\n",
       "      <td>12</td>\n",
       "    </tr>\n",
       "  </tbody>\n",
       "</table>\n",
       "</div>"
      ],
      "text/plain": [
       "     온도  습도  강수량  불쾌지수\n",
       "초여름  32  68  220    72\n",
       "늦봄   20  30    0    12"
      ]
     },
     "execution_count": 131,
     "metadata": {},
     "output_type": "execute_result"
    }
   ],
   "source": [
    "df.loc[['초여름', '늦봄']]"
   ]
  },
  {
   "cell_type": "code",
   "execution_count": 139,
   "metadata": {},
   "outputs": [
    {
     "data": {
      "text/html": [
       "<div>\n",
       "<style scoped>\n",
       "    .dataframe tbody tr th:only-of-type {\n",
       "        vertical-align: middle;\n",
       "    }\n",
       "\n",
       "    .dataframe tbody tr th {\n",
       "        vertical-align: top;\n",
       "    }\n",
       "\n",
       "    .dataframe thead th {\n",
       "        text-align: right;\n",
       "    }\n",
       "</style>\n",
       "<table border=\"1\" class=\"dataframe\">\n",
       "  <thead>\n",
       "    <tr style=\"text-align: right;\">\n",
       "      <th></th>\n",
       "      <th>온도</th>\n",
       "      <th>습도</th>\n",
       "      <th>강수량</th>\n",
       "      <th>불쾌지수</th>\n",
       "    </tr>\n",
       "  </thead>\n",
       "  <tbody>\n",
       "    <tr>\n",
       "      <th>초여름</th>\n",
       "      <td>32</td>\n",
       "      <td>68</td>\n",
       "      <td>220</td>\n",
       "      <td>72</td>\n",
       "    </tr>\n",
       "    <tr>\n",
       "      <th>늦봄</th>\n",
       "      <td>20</td>\n",
       "      <td>30</td>\n",
       "      <td>0</td>\n",
       "      <td>12</td>\n",
       "    </tr>\n",
       "  </tbody>\n",
       "</table>\n",
       "</div>"
      ],
      "text/plain": [
       "     온도  습도  강수량  불쾌지수\n",
       "초여름  32  68  220    72\n",
       "늦봄   20  30    0    12"
      ]
     },
     "execution_count": 139,
     "metadata": {},
     "output_type": "execute_result"
    }
   ],
   "source": [
    "df.iloc[0:2]"
   ]
  },
  {
   "cell_type": "code",
   "execution_count": 141,
   "metadata": {},
   "outputs": [
    {
     "data": {
      "text/html": [
       "<div>\n",
       "<style scoped>\n",
       "    .dataframe tbody tr th:only-of-type {\n",
       "        vertical-align: middle;\n",
       "    }\n",
       "\n",
       "    .dataframe tbody tr th {\n",
       "        vertical-align: top;\n",
       "    }\n",
       "\n",
       "    .dataframe thead th {\n",
       "        text-align: right;\n",
       "    }\n",
       "</style>\n",
       "<table border=\"1\" class=\"dataframe\">\n",
       "  <thead>\n",
       "    <tr style=\"text-align: right;\">\n",
       "      <th></th>\n",
       "      <th>온도</th>\n",
       "      <th>습도</th>\n",
       "      <th>강수량</th>\n",
       "      <th>불쾌지수</th>\n",
       "    </tr>\n",
       "  </thead>\n",
       "  <tbody>\n",
       "    <tr>\n",
       "      <th>초여름</th>\n",
       "      <td>32</td>\n",
       "      <td>68</td>\n",
       "      <td>220</td>\n",
       "      <td>72</td>\n",
       "    </tr>\n",
       "    <tr>\n",
       "      <th>늦봄</th>\n",
       "      <td>20</td>\n",
       "      <td>30</td>\n",
       "      <td>0</td>\n",
       "      <td>12</td>\n",
       "    </tr>\n",
       "  </tbody>\n",
       "</table>\n",
       "</div>"
      ],
      "text/plain": [
       "     온도  습도  강수량  불쾌지수\n",
       "초여름  32  68  220    72\n",
       "늦봄   20  30    0    12"
      ]
     },
     "execution_count": 141,
     "metadata": {},
     "output_type": "execute_result"
    }
   ],
   "source": [
    "df.loc['초여름':'늦봄']"
   ]
  },
  {
   "cell_type": "code",
   "execution_count": 158,
   "metadata": {},
   "outputs": [
    {
     "data": {
      "text/html": [
       "<div>\n",
       "<style scoped>\n",
       "    .dataframe tbody tr th:only-of-type {\n",
       "        vertical-align: middle;\n",
       "    }\n",
       "\n",
       "    .dataframe tbody tr th {\n",
       "        vertical-align: top;\n",
       "    }\n",
       "\n",
       "    .dataframe thead th {\n",
       "        text-align: right;\n",
       "    }\n",
       "</style>\n",
       "<table border=\"1\" class=\"dataframe\">\n",
       "  <thead>\n",
       "    <tr style=\"text-align: right;\">\n",
       "      <th></th>\n",
       "      <th>온도</th>\n",
       "      <th>습도</th>\n",
       "      <th>강수량</th>\n",
       "      <th>불쾌지수</th>\n",
       "    </tr>\n",
       "  </thead>\n",
       "  <tbody>\n",
       "    <tr>\n",
       "      <th>초여름</th>\n",
       "      <td>32</td>\n",
       "      <td>68</td>\n",
       "      <td>220</td>\n",
       "      <td>72</td>\n",
       "    </tr>\n",
       "    <tr>\n",
       "      <th>늦봄</th>\n",
       "      <td>20</td>\n",
       "      <td>30</td>\n",
       "      <td>0</td>\n",
       "      <td>12</td>\n",
       "    </tr>\n",
       "    <tr>\n",
       "      <th>한여름</th>\n",
       "      <td>38</td>\n",
       "      <td>81</td>\n",
       "      <td>0</td>\n",
       "      <td>91</td>\n",
       "    </tr>\n",
       "  </tbody>\n",
       "</table>\n",
       "</div>"
      ],
      "text/plain": [
       "     온도  습도  강수량  불쾌지수\n",
       "초여름  32  68  220    72\n",
       "늦봄   20  30    0    12\n",
       "한여름  38  81    0    91"
      ]
     },
     "execution_count": 158,
     "metadata": {},
     "output_type": "execute_result"
    }
   ],
   "source": [
    "df"
   ]
  },
  {
   "cell_type": "code",
   "execution_count": 148,
   "metadata": {},
   "outputs": [
    {
     "name": "stdout",
     "output_type": "stream",
     "text": [
      "32\n",
      "초여름    32\n",
      "늦봄     20\n",
      "한여름    38\n",
      "Name: 온도, dtype: int64\n",
      "     온도  습도  강수량\n",
      "초여름  32  68  220\n",
      "늦봄   20  30    0\n",
      "한여름  38  81    0\n"
     ]
    }
   ],
   "source": [
    "print(df.loc['초여름', '온도'])    # 인덱스: 행 X 열\n",
    "print(df.loc[:, '온도'])\n",
    "print(df.loc[:, '습도':'강수량'])"
   ]
  },
  {
   "cell_type": "code",
   "execution_count": 160,
   "metadata": {},
   "outputs": [
    {
     "name": "stdout",
     "output_type": "stream",
     "text": [
      "     온도  습도  강수량  불쾌지수\n",
      "초여름  32  68  220    72\n",
      "한여름  38  81    0    91\n"
     ]
    }
   ],
   "source": [
    "조건 = df['온도'] >= 30\n",
    "print(df[조건])"
   ]
  },
  {
   "cell_type": "code",
   "execution_count": null,
   "metadata": {},
   "outputs": [],
   "source": []
  }
 ],
 "metadata": {
  "kernelspec": {
   "display_name": "Python 3",
   "language": "python",
   "name": "python3"
  },
  "language_info": {
   "codemirror_mode": {
    "name": "ipython",
    "version": 3
   },
   "file_extension": ".py",
   "mimetype": "text/x-python",
   "name": "python",
   "nbconvert_exporter": "python",
   "pygments_lexer": "ipython3",
   "version": "3.6.9"
  }
 },
 "nbformat": 4,
 "nbformat_minor": 4
}
